{
  "cells": [
    {
      "cell_type": "markdown",
      "metadata": {
        "id": "a6vueEbm5Dif"
      },
      "source": [
        "Discussion : Arun\n",
        "* **Omnidirectional Camera:** Captures images with a wide field of view.\n",
        "* **OpenCV:** A library used for processing the images captured by the camera.\n",
        "* **EPnP Model**: Used for determining the camera's position and orientation from captured images.\n",
        "* **Distortion Model:** Applied to correct the lens distortion inherent in omnidirectional cameras."
      ]
    },
    {
      "cell_type": "markdown",
      "metadata": {
        "id": "PZM0z4wW5rHU"
      },
      "source": [
        "### **CloudCompare: Key Uses for 3D Point Clouds**\n",
        "\n",
        "1. **Visualization**\n",
        "    - View large point clouds and meshes with advanced display options.\n",
        "2. **Filtering and Cleaning**\n",
        "    - Remove noise and outliers, subsample data for efficiency.\n",
        "3. **Registration**\n",
        "    - Align multiple point clouds using ICP (Iterative Closest Point).\n",
        "4. **Segmentation**\n",
        "    - Divide point clouds based on criteria like color, density, or region.\n",
        "5. **Measurement and Analysis**\n",
        "    - Compute distances, calculate volumes, and perform density analysis.\n",
        "6. **Surface Reconstruction**\n",
        "    - Create 3D meshes from point cloud data."
      ]
    },
    {
      "cell_type": "code",
      "execution_count": null,
      "metadata": {
        "colab": {
          "base_uri": "https://localhost:8080/"
        },
        "id": "i1J2BsVqEsjQ",
        "outputId": "d83dba8a-6bc6-444e-e9aa-302f2de09840"
      },
      "outputs": [
        {
          "output_type": "stream",
          "name": "stdout",
          "text": [
            "Mounted at /content/drive\n"
          ]
        }
      ],
      "source": [
        "from google.colab import drive\n",
        "drive.mount('/content/drive')"
      ]
    },
    {
      "cell_type": "code",
      "execution_count": null,
      "metadata": {
        "id": "25Z9NydWFH2o"
      },
      "outputs": [],
      "source": [
        "%%capture --no-stderr\n",
        "%pip install -q numpy pandas matplotlib plotly open3d laspy scikit-learn pylas lazrs \"laspy[lazrs,laszip]\""
      ]
    },
    {
      "cell_type": "code",
      "source": [],
      "metadata": {
        "id": "G5zXlmLx77iM"
      },
      "execution_count": null,
      "outputs": []
    },
    {
      "cell_type": "code",
      "execution_count": null,
      "metadata": {
        "id": "deoAtFgdOg_C"
      },
      "outputs": [],
      "source": [
        "import laspy\n",
        "import open3d as o3d\n",
        "import numpy as np\n",
        "\n",
        "laz_path=\"/content/drive/MyDrive/2023-08-09_16.02.481-09.08.23-SouthFlare.laz\"\n",
        "las_file = laspy.read(laz_path)"
      ]
    },
    {
      "cell_type": "code",
      "execution_count": null,
      "metadata": {
        "id": "47WhQS1l-beE",
        "colab": {
          "base_uri": "https://localhost:8080/"
        },
        "outputId": "2dbea9da-26ee-4a32-e145-6867b02ef850"
      },
      "outputs": [
        {
          "output_type": "execute_result",
          "data": {
            "text/plain": [
              "True"
            ]
          },
          "metadata": {},
          "execution_count": 4
        }
      ],
      "source": [
        "import numpy as np\n",
        "import open3d as o3d\n",
        "import laspy\n",
        "\n",
        "def random_sample_points(las_file, sample_ratio):\n",
        "    total_points = len(las_file.points)\n",
        "    sample_size = int(total_points * sample_ratio)\n",
        "\n",
        "    # Randomly select indices\n",
        "    sample_indices = np.random.choice(total_points, sample_size, replace=False)\n",
        "\n",
        "    # Sample points\n",
        "    sampled_points = np.vstack((las_file.x[sample_indices], las_file.y[sample_indices], las_file.z[sample_indices])).transpose()\n",
        "\n",
        "    # Sample colors if available\n",
        "    if 'red' in las_file.point_format.dimension_names:\n",
        "        sampled_colors = np.vstack((las_file.red[sample_indices], las_file.green[sample_indices], las_file.blue[sample_indices])).transpose()\n",
        "        sampled_colors = sampled_colors / 65535.0  # Normalize RGB values to [0, 1]\n",
        "    else:\n",
        "        sampled_colors = None\n",
        "\n",
        "    return sampled_points, sampled_colors\n",
        "\n",
        "# Load the point cloud data\n",
        "# las_file = laspy.read('path_to_your_point_cloud_file.las')\n",
        "\n",
        "# Randomly sample points\n",
        "sample_ratio = 0.3  # Adjust the ratio as needed\n",
        "sampled_points, sampled_colors = random_sample_points(las_file, sample_ratio=sample_ratio)\n",
        "\n",
        "# Create an Open3D point cloud object with the sampled points\n",
        "point_cloud = o3d.geometry.PointCloud()\n",
        "point_cloud.points = o3d.utility.Vector3dVector(sampled_points)\n",
        "\n",
        "# Add colors if available\n",
        "if sampled_colors is not None:\n",
        "    point_cloud.colors = o3d.utility.Vector3dVector(sampled_colors)\n",
        "\n",
        "# Downsample the point cloud for faster processing (optional)\n",
        "downsampled_pc = point_cloud.voxel_down_sample(voxel_size=1)\n",
        "\n",
        "# Estimate normals\n",
        "downsampled_pc.estimate_normals(search_param=o3d.geometry.KDTreeSearchParamHybrid(radius=0.4, max_nn=30))\n",
        "\n",
        "# Poisson surface reconstruction\n",
        "mesh, densities = o3d.geometry.TriangleMesh.create_from_point_cloud_poisson(downsampled_pc, depth=8)\n",
        "\n",
        "# Remove low-density vertices\n",
        "vertices_to_remove = densities < np.quantile(densities, 0.01)\n",
        "mesh.remove_vertices_by_mask(vertices_to_remove)\n",
        "\n",
        "# Simplify mesh if needed\n",
        "mesh = mesh.simplify_quadric_decimation(50000)\n",
        "\n",
        "# Remove unwanted artifacts\n",
        "mesh.remove_degenerate_triangles()\n",
        "mesh.remove_duplicated_triangles()\n",
        "mesh.remove_duplicated_vertices()\n",
        "mesh.remove_non_manifold_edges()\n",
        "\n",
        "# Save the final mesh to a file\n",
        "o3d.io.write_triangle_mesh(\"reconstructed_mesh.ply\", mesh)"
      ]
    },
    {
      "cell_type": "code",
      "execution_count": null,
      "metadata": {
        "id": "FEU28J-c_qhN"
      },
      "outputs": [],
      "source": [
        "las=las_file"
      ]
    },
    {
      "cell_type": "code",
      "execution_count": null,
      "metadata": {
        "collapsed": true,
        "id": "WWKcvwlfPosS",
        "colab": {
          "base_uri": "https://localhost:8080/"
        },
        "outputId": "4dcf7145-4bf6-44bc-cc19-3eb4a0ca7cf7"
      },
      "outputs": [
        {
          "output_type": "stream",
          "name": "stdout",
          "text": [
            "-173.175095 -689.266174 0.608814\n"
          ]
        }
      ],
      "source": [
        "x_coordinates = las.x\n",
        "y_coordinates = las.y\n",
        "z_coordinates = las.z\n",
        "print((x_coordinates[0]),(y_coordinates[0]),(z_coordinates[0]))"
      ]
    },
    {
      "cell_type": "code",
      "execution_count": null,
      "metadata": {
        "id": "LKbMfV6QQG34",
        "colab": {
          "base_uri": "https://localhost:8080/"
        },
        "outputId": "eeadff50-8615-4e08-8b39-199b53f3887c"
      },
      "outputs": [
        {
          "output_type": "stream",
          "name": "stdout",
          "text": [
            "Total number of points: 169484179\n",
            "Point format: <PointFormat(2, 0 bytes of extra dims)>\n",
            "Number of returns: <SubFieldView([1 1 1 ... 1 1 1])>\n",
            "Sample return numbers: <SubFieldView([1 1 1 1 1 1 1 1 1 1])>\n",
            "Sample number of returns: <SubFieldView([1 1 1 1 1 1 1 1 1 1])>\n",
            "Sample RGB values:\n",
            "Point 0: (R: 28928, G: 25344, B: 22272)\n",
            "Point 1: (R: 33536, G: 29184, B: 24064)\n",
            "Point 2: (R: 30976, G: 27136, B: 24320)\n",
            "Point 3: (R: 32768, G: 28672, B: 26368)\n",
            "Point 4: (R: 38912, G: 33792, B: 29440)\n",
            "Point 5: (R: 25088, G: 18944, B: 12288)\n",
            "Point 6: (R: 29952, G: 25856, B: 22784)\n",
            "Point 7: (R: 30464, G: 29184, B: 23552)\n",
            "Point 8: (R: 28416, G: 25600, B: 21504)\n",
            "Point 9: (R: 35840, G: 28160, B: 22272)\n",
            "Sample XYZ coordinates:\n",
            "Point 0: (X: -173.175095, Y: -689.266174, Z: 0.608814)\n",
            "Point 1: (X: -173.30613699999998, Y: -689.214111, Z: 0.606842)\n",
            "Point 2: (X: -173.216782, Y: -689.2497559999999, Z: 0.603915)\n",
            "Point 3: (X: -172.981384, Y: -689.3433229999999, Z: 0.61512)\n",
            "Point 4: (X: -173.096588, Y: -689.296021, Z: 0.612727)\n",
            "Point 5: (X: -172.59098799999998, Y: -689.499146, Z: 0.619799)\n",
            "Point 6: (X: -173.06875599999998, Y: -689.3096919999999, Z: 0.612833)\n",
            "Point 7: (X: -172.933289, Y: -689.362, Z: 0.617081)\n",
            "Point 8: (X: -173.078094, Y: -689.303711, Z: 0.614454)\n",
            "Point 9: (X: -172.363174, Y: -688.661804, Z: 0.615722)\n",
            "Bounding box volume: 163930.49389538693\n",
            "Point density: 1033.8782917847925 points per unit volume\n"
          ]
        }
      ],
      "source": [
        "# Print basic file information\n",
        "print(f\"Total number of points: {len(las.points)}\")\n",
        "print(f\"Point format: {las.point_format}\")\n",
        "print(f\"Number of returns: {las.num_returns}\")\n",
        "\n",
        "intensity = las.intensity\n",
        "classification = las.classification\n",
        "\n",
        "# Return Number and Number of Returns\n",
        "print(\"Sample return numbers:\", las.return_number[:10])\n",
        "print(\"Sample number of returns:\", las.number_of_returns[:10])\n",
        "\n",
        "# RGB Colors (if available)\n",
        "if 'red' in las.point_format.dimension_names:\n",
        "    print(\"Sample RGB values:\")\n",
        "    for i in range(10):\n",
        "        print(f\"Point {i}: (R: {las.red[i]}, G: {las.green[i]}, B: {las.blue[i]})\")\n",
        "else:\n",
        "    print(\"RGB data not available.\")\n",
        "\n",
        "# XYZ Coordinates\n",
        "print(\"Sample XYZ coordinates:\")\n",
        "for i in range(10):\n",
        "    print(f\"Point {i}: (X: {las.x[i]}, Y: {las.y[i]}, Z: {las.z[i]})\")\n",
        "\n",
        "# Point Density\n",
        "# Point density can be calculated as the number of points divided by the volume of the bounding box\n",
        "x_min, x_max = las.x.min(), las.x.max()\n",
        "y_min, y_max = las.y.min(), las.y.max()\n",
        "z_min, z_max = las.z.min(), las.z.max()\n",
        "\n",
        "volume = (x_max - x_min) * (y_max - y_min) * (z_max - z_min)\n",
        "point_density = len(las.points) / volume if volume > 0 else float('inf')\n",
        "\n",
        "print(f\"Bounding box volume: {volume}\")\n",
        "print(f\"Point density: {point_density} points per unit volume\")"
      ]
    },
    {
      "cell_type": "code",
      "source": [],
      "metadata": {
        "id": "LHcsVNr91l9d"
      },
      "execution_count": null,
      "outputs": []
    }
  ],
  "metadata": {
    "accelerator": "GPU",
    "colab": {
      "gpuType": "T4",
      "provenance": []
    },
    "kernelspec": {
      "display_name": "Python 3",
      "name": "python3"
    },
    "language_info": {
      "name": "python"
    }
  },
  "nbformat": 4,
  "nbformat_minor": 0
}